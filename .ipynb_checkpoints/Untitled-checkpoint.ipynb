{
 "cells": [
  {
   "cell_type": "code",
   "execution_count": 43,
   "id": "9a4f9e5c",
   "metadata": {},
   "outputs": [
    {
     "name": "stderr",
     "output_type": "stream",
     "text": [
      "Z:\\anaconda\\Lib\\site-packages\\statsmodels\\tsa\\base\\tsa_model.py:473: ValueWarning: An unsupported index was provided and will be ignored when e.g. forecasting.\n",
      "  self._init_dates(dates, freq)\n",
      "Z:\\anaconda\\Lib\\site-packages\\statsmodels\\tsa\\base\\tsa_model.py:473: ValueWarning: An unsupported index was provided and will be ignored when e.g. forecasting.\n",
      "  self._init_dates(dates, freq)\n",
      "Z:\\anaconda\\Lib\\site-packages\\statsmodels\\tsa\\base\\tsa_model.py:473: ValueWarning: An unsupported index was provided and will be ignored when e.g. forecasting.\n",
      "  self._init_dates(dates, freq)\n",
      "Z:\\anaconda\\Lib\\site-packages\\statsmodels\\tsa\\base\\tsa_model.py:836: ValueWarning: No supported index is available. Prediction results will be given with an integer index beginning at `start`.\n",
      "  return get_prediction_index(\n",
      "Z:\\anaconda\\Lib\\site-packages\\statsmodels\\tsa\\base\\tsa_model.py:836: FutureWarning: No supported index is available. In the next version, calling this method in a model without a supported index will result in an exception.\n",
      "  return get_prediction_index(\n"
     ]
    },
    {
     "data": {
      "text/plain": [
       "3927    1088.256588\n",
       "3928    1088.544532\n",
       "Name: predicted_mean, dtype: float64"
      ]
     },
     "execution_count": 43,
     "metadata": {},
     "output_type": "execute_result"
    }
   ],
   "source": [
    "import pandas as pd\n",
    "import numpy as np\n",
    "from statsmodels.tsa.arima.model import ARIMA\n",
    "from sklearn.metrics import mean_squared_error\n",
    "from math import sqrt\n",
    "import matplotlib.pyplot as plt\n",
    "\n",
    "stock_data = pd.read_csv('GOOGL.csv')\n",
    "\n",
    "\n",
    "\n",
    "for i in range(1,6):  \n",
    "    stock_data[f'Low_Lag_{i}'] = stock_data['Low'].shift(i)\n",
    "stock_data.dropna(inplace=True)\n",
    "\n",
    "X=stock_data.drop(['Low'], axis=1)\n",
    "y=stock_data['Low']\n",
    "# X\n",
    "train_size = int(len(stock_data)*0.9997)\n",
    "test_size = int(len(stock_data)*0.9997)\n",
    "train=stock_data.iloc[:train_size]\n",
    "test=stock_data.iloc[test_size:]\n",
    "\n",
    "model = ARIMA(train['Low'], order=(5, 1, 0))  # Adjust the order as needed\n",
    "model_fit = model.fit()\n",
    "\n",
    "# rmse = sqrt(mean_squared_error(test['Low'], predictions))\n",
    "# print(f'Root Mean Squared Error (RMSE): {rmse}')\n",
    "\n",
    "predictions=model_fit.forecast(steps=len(test))\n",
    "predictions\n"
   ]
  },
  {
   "cell_type": "code",
   "execution_count": null,
   "id": "fabfac3e",
   "metadata": {},
   "outputs": [],
   "source": []
  }
 ],
 "metadata": {
  "kernelspec": {
   "display_name": "Python 3 (ipykernel)",
   "language": "python",
   "name": "python3"
  },
  "language_info": {
   "codemirror_mode": {
    "name": "ipython",
    "version": 3
   },
   "file_extension": ".py",
   "mimetype": "text/x-python",
   "name": "python",
   "nbconvert_exporter": "python",
   "pygments_lexer": "ipython3",
   "version": "3.11.5"
  }
 },
 "nbformat": 4,
 "nbformat_minor": 5
}
