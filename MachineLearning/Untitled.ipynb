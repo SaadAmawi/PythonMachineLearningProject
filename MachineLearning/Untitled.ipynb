{
 "cells": [
  {
   "cell_type": "code",
   "execution_count": 29,
   "id": "330278eb-a960-4738-9264-acaba698696f",
   "metadata": {},
   "outputs": [],
   "source": [
    "import pandas as pd\n",
    "import numpy as np\n",
    "from statsmodels.tsa.arima.model import ARIMA\n",
    "from sklearn.metrics import mean_squared_error\n",
    "from math import sqrt\n",
    "import matplotlib.pyplot as plt\n",
    "from sklearn.linear_model import LinearRegression\n",
    "from sklearn import metrics\n",
    "import joblib\n",
    "from sklearn.ensemble import RandomForestClassifier\n",
    "from sklearn.neighbors import KNeighborsClassifier\n",
    "import seaborn as sns\n"
   ]
  },
  {
   "cell_type": "code",
   "execution_count": 3,
   "id": "79754299-8db9-478e-b79f-008c99ebf975",
   "metadata": {},
   "outputs": [],
   "source": [
    "\n",
    "def predictClass(score):\n",
    "    if(score==0):\n",
    "        return \"Sane\"\n",
    "    elif(score==1):\n",
    "        return \"Mild\"\n",
    "    elif(score==2):\n",
    "        return \"Serious\"\n",
    "        "
   ]
  },
  {
   "cell_type": "code",
   "execution_count": 7,
   "id": "94886a3a-93e6-4904-8514-31abb5387210",
   "metadata": {},
   "outputs": [],
   "source": [
    "stock_data = pd.read_csv('ALZ.csv')\n",
    "stock_data=stock_data.drop(['MMSE2'],axis=1)\n",
    "\n",
    "\n",
    "stock_data.dropna(inplace=True)\n",
    "\n",
    "\n",
    "\n",
    "\n",
    "X=stock_data.drop(['Dx'], axis=1)\n",
    "y=stock_data['Dx']\n",
    "\n",
    "train_size = int(len(stock_data)*0.8)\n",
    "\n",
    "train=stock_data.iloc[:train_size]"
   ]
  },
  {
   "cell_type": "code",
   "execution_count": 8,
   "id": "4544a98a-d3ee-4856-872c-3d0e8bb22c31",
   "metadata": {},
   "outputs": [
    {
     "data": {
      "text/plain": [
       "(     Sex  Age   Edu  MoCA\n",
       " 0      1   66  12.0    20\n",
       " 1      1   60  12.0    22\n",
       " 2      1   60   9.0    23\n",
       " 3      1   79  11.0    20\n",
       " 4      1   78   0.0     2\n",
       " ..   ...  ...   ...   ...\n",
       " 298    0   56  18.0    22\n",
       " 299    0   65   6.0    22\n",
       " 300    0   80  11.0    16\n",
       " 301    1   51  12.0    20\n",
       " 302    1   86   0.5     7\n",
       " \n",
       " [303 rows x 4 columns],\n",
       " 0      1\n",
       " 1      1\n",
       " 2      1\n",
       " 3      1\n",
       " 4      2\n",
       "       ..\n",
       " 298    1\n",
       " 299    0\n",
       " 300    2\n",
       " 301    1\n",
       " 302    2\n",
       " Name: Dx, Length: 303, dtype: int64)"
      ]
     },
     "execution_count": 8,
     "metadata": {},
     "output_type": "execute_result"
    }
   ],
   "source": [
    "X,y"
   ]
  },
  {
   "cell_type": "code",
   "execution_count": 25,
   "id": "979eecca-4716-4c3c-be31-844966286606",
   "metadata": {},
   "outputs": [
    {
     "data": {
      "text/html": [
       "<div>\n",
       "<style scoped>\n",
       "    .dataframe tbody tr th:only-of-type {\n",
       "        vertical-align: middle;\n",
       "    }\n",
       "\n",
       "    .dataframe tbody tr th {\n",
       "        vertical-align: top;\n",
       "    }\n",
       "\n",
       "    .dataframe thead th {\n",
       "        text-align: right;\n",
       "    }\n",
       "</style>\n",
       "<table border=\"1\" class=\"dataframe\">\n",
       "  <thead>\n",
       "    <tr style=\"text-align: right;\">\n",
       "      <th></th>\n",
       "      <th>Sex</th>\n",
       "      <th>Age</th>\n",
       "      <th>Edu</th>\n",
       "      <th>MoCA</th>\n",
       "      <th>Dx</th>\n",
       "    </tr>\n",
       "  </thead>\n",
       "  <tbody>\n",
       "    <tr>\n",
       "      <th>0</th>\n",
       "      <td>1</td>\n",
       "      <td>66</td>\n",
       "      <td>12.0</td>\n",
       "      <td>20</td>\n",
       "      <td>1</td>\n",
       "    </tr>\n",
       "    <tr>\n",
       "      <th>1</th>\n",
       "      <td>1</td>\n",
       "      <td>60</td>\n",
       "      <td>12.0</td>\n",
       "      <td>22</td>\n",
       "      <td>1</td>\n",
       "    </tr>\n",
       "    <tr>\n",
       "      <th>2</th>\n",
       "      <td>1</td>\n",
       "      <td>60</td>\n",
       "      <td>9.0</td>\n",
       "      <td>23</td>\n",
       "      <td>1</td>\n",
       "    </tr>\n",
       "    <tr>\n",
       "      <th>3</th>\n",
       "      <td>1</td>\n",
       "      <td>79</td>\n",
       "      <td>11.0</td>\n",
       "      <td>20</td>\n",
       "      <td>1</td>\n",
       "    </tr>\n",
       "    <tr>\n",
       "      <th>4</th>\n",
       "      <td>1</td>\n",
       "      <td>78</td>\n",
       "      <td>0.0</td>\n",
       "      <td>2</td>\n",
       "      <td>2</td>\n",
       "    </tr>\n",
       "    <tr>\n",
       "      <th>...</th>\n",
       "      <td>...</td>\n",
       "      <td>...</td>\n",
       "      <td>...</td>\n",
       "      <td>...</td>\n",
       "      <td>...</td>\n",
       "    </tr>\n",
       "    <tr>\n",
       "      <th>237</th>\n",
       "      <td>1</td>\n",
       "      <td>76</td>\n",
       "      <td>0.5</td>\n",
       "      <td>3</td>\n",
       "      <td>2</td>\n",
       "    </tr>\n",
       "    <tr>\n",
       "      <th>238</th>\n",
       "      <td>0</td>\n",
       "      <td>68</td>\n",
       "      <td>11.0</td>\n",
       "      <td>26</td>\n",
       "      <td>0</td>\n",
       "    </tr>\n",
       "    <tr>\n",
       "      <th>239</th>\n",
       "      <td>1</td>\n",
       "      <td>71</td>\n",
       "      <td>9.0</td>\n",
       "      <td>22</td>\n",
       "      <td>0</td>\n",
       "    </tr>\n",
       "    <tr>\n",
       "      <th>240</th>\n",
       "      <td>1</td>\n",
       "      <td>82</td>\n",
       "      <td>0.0</td>\n",
       "      <td>4</td>\n",
       "      <td>2</td>\n",
       "    </tr>\n",
       "    <tr>\n",
       "      <th>241</th>\n",
       "      <td>0</td>\n",
       "      <td>74</td>\n",
       "      <td>12.0</td>\n",
       "      <td>0</td>\n",
       "      <td>2</td>\n",
       "    </tr>\n",
       "  </tbody>\n",
       "</table>\n",
       "<p>242 rows × 5 columns</p>\n",
       "</div>"
      ],
      "text/plain": [
       "     Sex  Age   Edu  MoCA  Dx\n",
       "0      1   66  12.0    20   1\n",
       "1      1   60  12.0    22   1\n",
       "2      1   60   9.0    23   1\n",
       "3      1   79  11.0    20   1\n",
       "4      1   78   0.0     2   2\n",
       "..   ...  ...   ...   ...  ..\n",
       "237    1   76   0.5     3   2\n",
       "238    0   68  11.0    26   0\n",
       "239    1   71   9.0    22   0\n",
       "240    1   82   0.0     4   2\n",
       "241    0   74  12.0     0   2\n",
       "\n",
       "[242 rows x 5 columns]"
      ]
     },
     "execution_count": 25,
     "metadata": {},
     "output_type": "execute_result"
    }
   ],
   "source": [
    "X_train, y_train = train.drop(['Dx'],axis=1), train['Dx']\n",
    "test=stock_data.iloc[train_size:]\n",
    "X_test, y_test = test.drop(['Dx'],axis=1), test['Dx']\n",
    "train_data=X_train.join(y_train)\n",
    "train_data"
   ]
  },
  {
   "cell_type": "code",
   "execution_count": 26,
   "id": "26bac95f-a56c-4dc1-b037-fbadd3aec547",
   "metadata": {},
   "outputs": [
    {
     "data": {
      "text/plain": [
       "array([[<Axes: title={'center': 'Sex'}>, <Axes: title={'center': 'Age'}>],\n",
       "       [<Axes: title={'center': 'Edu'}>,\n",
       "        <Axes: title={'center': 'MoCA'}>],\n",
       "       [<Axes: title={'center': 'Dx'}>, <Axes: >]], dtype=object)"
      ]
     },
     "execution_count": 26,
     "metadata": {},
     "output_type": "execute_result"
    },
    {
     "data": {
      "image/png": "[encoded data removed]",
      "text/plain": [
       "<Figure size 2000x800 with 6 Axes>"
      ]
     },
     "metadata": {},
     "output_type": "display_data"
    }
   ],
   "source": [
    "train_data.hist(figsize=(20,8))\n"
   ]
  },
  {
   "cell_type": "code",
   "execution_count": 33,
   "id": "d97681b3-c47a-4165-8cf7-02cfdd393b1f",
   "metadata": {},
   "outputs": [
    {
     "data": {
      "text/plain": [
       "<Axes: >"
      ]
     },
     "execution_count": 33,
     "metadata": {},
     "output_type": "execute_result"
    },
    {
     "data": {
      "image/png": "[encoded data removed]",
      "text/plain": [
       "<Figure size 1500x800 with 2 Axes>"
      ]
     },
     "metadata": {},
     "output_type": "display_data"
    }
   ],
   "source": [
    "plt.figure(figsize=(15,8))\n",
    "sns.heatmap(train_data.corr(), annot=True, cmap=\"YlGnBu\")"
   ]
  },
  {
   "cell_type": "code",
   "execution_count": 35,
   "id": "0e5b837e-c432-4212-8a4b-afe9f6806bed",
   "metadata": {},
   "outputs": [
    {
     "data": {
      "text/html": [
       "<div>\n",
       "<style scoped>\n",
       "    .dataframe tbody tr th:only-of-type {\n",
       "        vertical-align: middle;\n",
       "    }\n",
       "\n",
       "    .dataframe tbody tr th {\n",
       "        vertical-align: top;\n",
       "    }\n",
       "\n",
       "    .dataframe thead th {\n",
       "        text-align: right;\n",
       "    }\n",
       "</style>\n",
       "<table border=\"1\" class=\"dataframe\">\n",
       "  <thead>\n",
       "    <tr style=\"text-align: right;\">\n",
       "      <th></th>\n",
       "      <th>Sex</th>\n",
       "      <th>Age</th>\n",
       "      <th>Edu</th>\n",
       "      <th>MoCA</th>\n",
       "      <th>Dx</th>\n",
       "    </tr>\n",
       "  </thead>\n",
       "  <tbody>\n",
       "    <tr>\n",
       "      <th>Sex</th>\n",
       "      <td>1.000000</td>\n",
       "      <td>0.190104</td>\n",
       "      <td>-0.334239</td>\n",
       "      <td>-0.150907</td>\n",
       "      <td>-0.001093</td>\n",
       "    </tr>\n",
       "    <tr>\n",
       "      <th>Age</th>\n",
       "      <td>0.190104</td>\n",
       "      <td>1.000000</td>\n",
       "      <td>-0.504013</td>\n",
       "      <td>-0.560686</td>\n",
       "      <td>0.308748</td>\n",
       "    </tr>\n",
       "    <tr>\n",
       "      <th>Edu</th>\n",
       "      <td>-0.334239</td>\n",
       "      <td>-0.504013</td>\n",
       "      <td>1.000000</td>\n",
       "      <td>0.594754</td>\n",
       "      <td>-0.169342</td>\n",
       "    </tr>\n",
       "    <tr>\n",
       "      <th>MoCA</th>\n",
       "      <td>-0.150907</td>\n",
       "      <td>-0.560686</td>\n",
       "      <td>0.594754</td>\n",
       "      <td>1.000000</td>\n",
       "      <td>-0.693593</td>\n",
       "    </tr>\n",
       "    <tr>\n",
       "      <th>Dx</th>\n",
       "      <td>-0.001093</td>\n",
       "      <td>0.308748</td>\n",
       "      <td>-0.169342</td>\n",
       "      <td>-0.693593</td>\n",
       "      <td>1.000000</td>\n",
       "    </tr>\n",
       "  </tbody>\n",
       "</table>\n",
       "</div>"
      ],
      "text/plain": [
       "           Sex       Age       Edu      MoCA        Dx\n",
       "Sex   1.000000  0.190104 -0.334239 -0.150907 -0.001093\n",
       "Age   0.190104  1.000000 -0.504013 -0.560686  0.308748\n",
       "Edu  -0.334239 -0.504013  1.000000  0.594754 -0.169342\n",
       "MoCA -0.150907 -0.560686  0.594754  1.000000 -0.693593\n",
       "Dx   -0.001093  0.308748 -0.169342 -0.693593  1.000000"
      ]
     },
     "execution_count": 35,
     "metadata": {},
     "output_type": "execute_result"
    }
   ],
   "source": [
    "train_data.corr()"
   ]
  },
  {
   "cell_type": "code",
   "execution_count": 36,
   "id": "10cc8881-8519-4fdc-9bf6-bfde2ee45e38",
   "metadata": {},
   "outputs": [
    {
     "name": "stdout",
     "output_type": "stream",
     "text": [
      "Accuracy of RandomForestClassifier: 73.77049180327869\n",
      "Predicted class using RandomForestClassifier: Sane\n"
     ]
    },
    {
     "name": "stderr",
     "output_type": "stream",
     "text": [
      "C:\\Users\\saada\\anaconda3\\Lib\\site-packages\\sklearn\\base.py:439: UserWarning: X does not have valid feature names, but RandomForestClassifier was fitted with feature names\n",
      "  warnings.warn(\n"
     ]
    }
   ],
   "source": [
    "random_forest_model = RandomForestClassifier(n_estimators=500, random_state=0)\n",
    "random_forest_model.fit(X_train, y_train)\n",
    "\n",
    "# Evaluate the model\n",
    "accuracy = random_forest_model.score(X_test, y_test)\n",
    "print(\"Accuracy of RandomForestClassifier:\", accuracy * 100)\n",
    "\n",
    "# Predict the class for a new data point\n",
    "new_data_point = np.array([1, 66, 12, 30]).reshape(1, -1)\n",
    "predicted_class = random_forest_model.predict(new_data_point)\n",
    "print(\"Predicted class using RandomForestClassifier:\", predictClass(predicted_class))"
   ]
  },
  {
   "cell_type": "code",
   "execution_count": 37,
   "id": "eaf460b7-ac3f-47f1-9fe3-f38b063c4d55",
   "metadata": {},
   "outputs": [
    {
     "name": "stdout",
     "output_type": "stream",
     "text": [
      "Accuracy of KNN: 75.40983606557377\n",
      "Predicted class using KNN: Mild\n"
     ]
    },
    {
     "name": "stderr",
     "output_type": "stream",
     "text": [
      "C:\\Users\\saada\\anaconda3\\Lib\\site-packages\\sklearn\\base.py:439: UserWarning: X does not have valid feature names, but KNeighborsClassifier was fitted with feature names\n",
      "  warnings.warn(\n"
     ]
    }
   ],
   "source": [
    "knn_model = KNeighborsClassifier(n_neighbors=5)  \n",
    "knn_model.fit(X_train, y_train)\n",
    "\n",
    "accuracy = knn_model.score(X_test, y_test)\n",
    "print(\"Accuracy of KNN:\", accuracy * 100)\n",
    "\n",
    "new_data_point = np.array([1, 66, 12, 20]).reshape(1, -1)\n",
    "predicted_class = knn_model.predict(new_data_point)\n",
    "print(\"Predicted class using KNN:\", predictClass(predicted_class))"
   ]
  },
  {
   "cell_type": "code",
   "execution_count": null,
   "id": "606bd5e2-7020-4d4c-884f-9e6e3ccd66fc",
   "metadata": {},
   "outputs": [],
   "source": []
  }
 ],
 "metadata": {
  "kernelspec": {
   "display_name": "Python 3 (ipykernel)",
   "language": "python",
   "name": "python3"
  },
  "language_info": {
   "codemirror_mode": {
    "name": "ipython",
    "version": 3
   },
   "file_extension": ".py",
   "mimetype": "text/x-python",
   "name": "python",
   "nbconvert_exporter": "python",
   "pygments_lexer": "ipython3",
   "version": "3.11.7"
  }
 },
 "nbformat": 4,
 "nbformat_minor": 5
}
